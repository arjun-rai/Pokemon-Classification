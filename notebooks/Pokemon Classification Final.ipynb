{
 "cells": [
  {
   "cell_type": "code",
   "execution_count": 11,
   "id": "parental-session",
   "metadata": {
    "id": "parental-session"
   },
   "outputs": [],
   "source": [
    "import matplotlib.pyplot as plt\n",
    "import seaborn as sns\n",
    "import numpy as np\n",
    "import pandas as pd\n",
    "import pathlib\n",
    "import PIL\n",
    "import tensorflow as tf\n",
    "import tensorflow_datasets as tfds\n",
    "import shutil\n",
    "import os\n",
    "import math"
   ]
  },
  {
   "cell_type": "code",
   "execution_count": 2,
   "id": "biological-paste",
   "metadata": {
    "id": "biological-paste"
   },
   "outputs": [],
   "source": [
    "batch_size = 64 #was 24\n",
    "img_height = 128 #100\n",
    "img_width = 128 #100"
   ]
  },
  {
   "cell_type": "code",
   "execution_count": 9,
   "id": "soviet-imperial",
   "metadata": {
    "colab": {
     "base_uri": "https://localhost:8080/"
    },
    "id": "soviet-imperial",
    "outputId": "a48779ea-6ff3-4b65-bf85-af37dbbf5e4b"
   },
   "outputs": [
    {
     "name": "stdout",
     "output_type": "stream",
     "text": [
      "Found 4822 images belonging to 18 classes.\n",
      "Found 595 images belonging to 18 classes.\n",
      "Found 619 images belonging to 18 classes.\n"
     ]
    }
   ],
   "source": [
    "dest = 'C:\\\\Users\\\\Asrra\\\\OneDrive\\\\Documents\\\\Code\\\\Python\\\\Pokemon Classification\\\\new_images_classified_only_100\\\\'\n",
    "train = dest + 'train'\n",
    "val = dest + 'val'\n",
    "test = dest + 'test'\n",
    "train_datagen = tf.keras.preprocessing.image.ImageDataGenerator(\n",
    "        rescale = 1./255,\n",
    "        rotation_range = 10,#was 20\n",
    "        shear_range = 0.2, #was 0.4\n",
    "        zoom_range = 0.2, #was 0.4\n",
    "        width_shift_range = 0.1, #was 0.2\n",
    "        height_shift_range = 0.1, #was 0.2\n",
    "        horizontal_flip = True,\n",
    "        vertical_flip = True)\n",
    "    \n",
    "test_datagen = tf.keras.preprocessing.image.ImageDataGenerator(rescale = 1./255)\n",
    "\n",
    "training_set = train_datagen.flow_from_directory(train,\n",
    "                                                     target_size = (img_width, img_height),\n",
    "                                                     batch_size = batch_size,\n",
    "                                                     class_mode = 'categorical',\n",
    "                                                     #color_mode=\"rgba\"\n",
    "                                                     )\n",
    "\n",
    "val_set = test_datagen.flow_from_directory(val,\n",
    "                                                target_size = (img_width, img_height),\n",
    "                                                batch_size = batch_size,\n",
    "                                                class_mode = 'categorical',\n",
    "                                                #color_mode=\"rgba\"\n",
    "                                               )\n",
    "\n",
    "test_set = test_datagen.flow_from_directory(test,\n",
    "                                                target_size = (img_width, img_height),\n",
    "                                                batch_size = batch_size,\n",
    "                                                class_mode = 'categorical',\n",
    "                                                shuffle = False,\n",
    "                                                #color_mode=\"rgba\"\n",
    "                                                )"
   ]
  },
  {
   "cell_type": "code",
   "execution_count": null,
   "id": "instructional-panama",
   "metadata": {
    "id": "instructional-panama"
   },
   "outputs": [],
   "source": [
    "# train_ds = tf.keras.preprocessing.image_dataset_from_directory(\n",
    "#   pkmonclassifieddir,\n",
    "#   validation_split=0.2,\n",
    "#   subset=\"training\",\n",
    "#   label_mode='categorical',\n",
    "#   seed=101,\n",
    "#   image_size=(img_height, img_width),\n",
    "#   batch_size=batch_size)\n",
    "\n",
    "# val_ds = tf.keras.preprocessing.image_dataset_from_directory(\n",
    "#   pkmonclassifieddir,\n",
    "#   validation_split=0.2,\n",
    "#   subset=\"validation\",\n",
    "#   label_mode='categorical',\n",
    "#   seed=101,\n",
    "#   image_size=(img_height, img_width),\n",
    "#   batch_size=batch_size)"
   ]
  },
  {
   "cell_type": "code",
   "execution_count": 14,
   "id": "rational-space",
   "metadata": {
    "id": "rational-space"
   },
   "outputs": [],
   "source": [
    "from tensorflow.keras.layers import MaxPooling2D, Conv2D, Dense, Dropout, Flatten\n",
    "from tensorflow.keras import layers\n",
    "from tensorflow.keras.callbacks import EarlyStopping\n",
    "from tensorflow.keras.models import Sequential\n",
    "from tensorflow.keras.preprocessing import image"
   ]
  },
  {
   "cell_type": "code",
   "execution_count": null,
   "id": "through-address",
   "metadata": {
    "id": "through-address"
   },
   "outputs": [],
   "source": [
    "# AUTOTUNE = tf.data.AUTOTUNE\n",
    "\n",
    "# train_ds = train_ds.cache().prefetch(buffer_size=AUTOTUNE)\n",
    "# val_ds = val_ds.cache().prefetch(buffer_size=AUTOTUNE)"
   ]
  },
  {
   "cell_type": "code",
   "execution_count": null,
   "id": "successful-franchise",
   "metadata": {
    "id": "successful-franchise"
   },
   "outputs": [],
   "source": [
    "early_stop = EarlyStopping(monitor='val_loss', mode='min', verbose=1, patience=20)"
   ]
  },
  {
   "cell_type": "code",
   "execution_count": null,
   "id": "rental-colony",
   "metadata": {
    "id": "rental-colony"
   },
   "outputs": [],
   "source": [
    "num_classes = 18\n",
    "model = Sequential()\n",
    "model.add(layers.Conv2D(32, (3, 3), padding=\"same\", activation='relu', input_shape=(100,100,3)))\n",
    "model.add(layers.BatchNormalization(axis=-1))\n",
    "model.add(layers.MaxPooling2D(pool_size=(3, 3)))\n",
    "model.add(layers.Dropout(0.5)) #was 0.33\n",
    "\n",
    "model.add(layers.Conv2D(64, (5, 5), padding=\"same\", activation='relu'))\n",
    "model.add(layers.BatchNormalization(axis=-1))\n",
    "model.add(layers.Conv2D(64, (5, 5), padding=\"same\", activation='relu'))\n",
    "model.add(layers.BatchNormalization(axis=-1))\n",
    "\n",
    "# model.add(layers.Conv2D(64, (5, 5), padding=\"same\", activation='relu'))\n",
    "# model.add(layers.BatchNormalization(axis=-1))\n",
    "# model.add(layers.Conv2D(64, (5, 5), padding=\"same\", activation='relu'))\n",
    "# model.add(layers.BatchNormalization(axis=-1))\n",
    "\n",
    "\n",
    "model.add(layers.MaxPooling2D(pool_size=(3, 3)))\n",
    "model.add(layers.Dropout(0.5))\n",
    "\n",
    "model.add(layers.Conv2D(128, (5, 5), padding=\"same\", activation=\"relu\"))\n",
    "model.add(layers.BatchNormalization(axis=-1))\n",
    "model.add(layers.Conv2D(128, (5, 5), padding=\"same\", activation='relu'))\n",
    "model.add(layers.BatchNormalization(axis=-1))\n",
    "\n",
    "# model.add(layers.Conv2D(128, (5, 5), padding=\"same\", activation='relu'))\n",
    "# model.add(layers.BatchNormalization(axis=-1))\n",
    "# model.add(layers.Conv2D(128, (5, 5), padding=\"same\", activation='relu'))\n",
    "# model.add(layers.BatchNormalization(axis=-1))\n",
    "\n",
    "\n",
    "model.add(layers.MaxPooling2D(pool_size=(3, 3)))\n",
    "model.add(layers.Dropout(0.5))\n",
    "model.add(layers.Flatten())\n",
    "\n",
    "model.add(layers.Dense(1024, activation='relu')) #was 1024\n",
    "model.add(layers.BatchNormalization())\n",
    "model.add(layers.Dropout(0.5))\n",
    "\n",
    "model.add(layers.Dense(num_classes, activation='softmax'))"
   ]
  },
  {
   "cell_type": "code",
   "execution_count": null,
   "id": "ElWmrYXT4HeQ",
   "metadata": {
    "id": "ElWmrYXT4HeQ"
   },
   "outputs": [],
   "source": [
    "num_classes = 18\n",
    "model = Sequential()\n",
    "model.add(Conv2D(100, (3, 3),\n",
    "                          padding = 'same',\n",
    "                          input_shape = (img_width, img_height, 3),\n",
    "                          activation = 'relu'))\n",
    "    #classifier.add(Conv2D(32, (3, 3), activation='relu'))\n",
    "model.add(MaxPooling2D(pool_size = (2, 2)))\n",
    "model.add(Dropout(0.5)) #was 0.25\n",
    "\n",
    "model.add(Conv2D(100, (3, 3), padding = 'same', activation = 'relu'))\n",
    "model.add(Conv2D(100, (3, 3), activation='relu'))\n",
    "model.add(MaxPooling2D(pool_size = (2, 2)))\n",
    "model.add(Dropout(0.5)) #was 0.25\n",
    "\n",
    "# flatten output and create fully connected layers\n",
    "model.add(Flatten())\n",
    "model.add(Dense(400, input_dim = 4, activation = 'relu'))\n",
    "model.add(Dropout(0.5))\n",
    "\n",
    "\n",
    "model.add(Dense(num_classes, activation = 'softmax'))"
   ]
  },
  {
   "cell_type": "code",
   "execution_count": 15,
   "id": "uflfkeF8FNv7",
   "metadata": {
    "id": "uflfkeF8FNv7"
   },
   "outputs": [],
   "source": [
    "model = tf.keras.models.load_model('PokemonClassifier2best.h5')"
   ]
  },
  {
   "cell_type": "code",
   "execution_count": 16,
   "id": "rotary-december",
   "metadata": {
    "id": "rotary-december"
   },
   "outputs": [],
   "source": [
    "model.compile(\n",
    "  optimizer='adam',\n",
    "  loss=tf.losses.CategoricalCrossentropy(label_smoothing=0.25), #was 0.25 label_smoothing=0.25\n",
    "  metrics=['accuracy'])"
   ]
  },
  {
   "cell_type": "code",
   "execution_count": null,
   "id": "frozen-maryland",
   "metadata": {
    "colab": {
     "base_uri": "https://localhost:8080/"
    },
    "id": "frozen-maryland",
    "outputId": "09f4d42f-70b0-4af4-f968-f139f12a6a0e",
    "scrolled": true
   },
   "outputs": [
    {
     "name": "stdout",
     "output_type": "stream",
     "text": [
      "Epoch 1/400\n",
      "76/76 [==============================] - 20s 254ms/step - loss: 2.0020 - accuracy: 0.6141 - val_loss: 2.1073 - val_accuracy: 0.5311\n",
      "Epoch 2/400\n",
      "76/76 [==============================] - 19s 255ms/step - loss: 2.0051 - accuracy: 0.6153 - val_loss: 2.0821 - val_accuracy: 0.5546\n",
      "Epoch 3/400\n",
      "76/76 [==============================] - 19s 250ms/step - loss: 2.0085 - accuracy: 0.6139 - val_loss: 2.1035 - val_accuracy: 0.5462\n",
      "Epoch 4/400\n",
      "76/76 [==============================] - 19s 254ms/step - loss: 2.0069 - accuracy: 0.6049 - val_loss: 2.0902 - val_accuracy: 0.5580\n",
      "Epoch 5/400\n",
      "76/76 [==============================] - 19s 250ms/step - loss: 1.9944 - accuracy: 0.6221 - val_loss: 2.0836 - val_accuracy: 0.5697\n",
      "Epoch 6/400\n",
      "76/76 [==============================] - 19s 250ms/step - loss: 2.0064 - accuracy: 0.6201 - val_loss: 2.0785 - val_accuracy: 0.5546\n",
      "Epoch 7/400\n",
      "76/76 [==============================] - 19s 250ms/step - loss: 1.9933 - accuracy: 0.6178 - val_loss: 2.0913 - val_accuracy: 0.5782\n",
      "Epoch 8/400\n",
      "76/76 [==============================] - 19s 250ms/step - loss: 1.9934 - accuracy: 0.6259 - val_loss: 2.0582 - val_accuracy: 0.5916\n",
      "Epoch 9/400\n",
      "76/76 [==============================] - 19s 252ms/step - loss: 1.9806 - accuracy: 0.6373 - val_loss: 2.0728 - val_accuracy: 0.5798\n",
      "Epoch 10/400\n",
      "76/76 [==============================] - 19s 253ms/step - loss: 2.0024 - accuracy: 0.6151 - val_loss: 2.0707 - val_accuracy: 0.5513\n",
      "Epoch 11/400\n",
      "76/76 [==============================] - 19s 253ms/step - loss: 1.9798 - accuracy: 0.6284 - val_loss: 2.0638 - val_accuracy: 0.5664\n",
      "Epoch 12/400\n",
      "76/76 [==============================] - 19s 253ms/step - loss: 1.9823 - accuracy: 0.6340 - val_loss: 2.0675 - val_accuracy: 0.5597\n",
      "Epoch 13/400\n",
      "76/76 [==============================] - 19s 248ms/step - loss: 1.9802 - accuracy: 0.6333 - val_loss: 2.0684 - val_accuracy: 0.5681\n",
      "Epoch 14/400\n",
      "76/76 [==============================] - 19s 250ms/step - loss: 1.9740 - accuracy: 0.6323 - val_loss: 2.0838 - val_accuracy: 0.5630\n",
      "Epoch 15/400\n",
      "76/76 [==============================] - 19s 249ms/step - loss: 1.9769 - accuracy: 0.6336 - val_loss: 2.0616 - val_accuracy: 0.5714\n",
      "Epoch 16/400\n",
      "76/76 [==============================] - 19s 251ms/step - loss: 1.9848 - accuracy: 0.6280 - val_loss: 2.0916 - val_accuracy: 0.5529\n",
      "Epoch 17/400\n",
      "76/76 [==============================] - 19s 256ms/step - loss: 1.9795 - accuracy: 0.6358 - val_loss: 2.0723 - val_accuracy: 0.5546\n",
      "Epoch 18/400\n",
      "76/76 [==============================] - 21s 271ms/step - loss: 1.9732 - accuracy: 0.6311 - val_loss: 2.0723 - val_accuracy: 0.5580\n",
      "Epoch 19/400\n",
      "76/76 [==============================] - 21s 270ms/step - loss: 1.9686 - accuracy: 0.6477 - val_loss: 2.0584 - val_accuracy: 0.5765\n",
      "Epoch 20/400\n",
      "76/76 [==============================] - 20s 256ms/step - loss: 1.9661 - accuracy: 0.6435 - val_loss: 2.1089 - val_accuracy: 0.5714\n",
      "Epoch 21/400\n",
      "76/76 [==============================] - 19s 253ms/step - loss: 1.9832 - accuracy: 0.6275 - val_loss: 2.0491 - val_accuracy: 0.5933\n",
      "Epoch 22/400\n",
      "76/76 [==============================] - 19s 253ms/step - loss: 1.9552 - accuracy: 0.6456 - val_loss: 2.0478 - val_accuracy: 0.5748\n",
      "Epoch 23/400\n",
      "76/76 [==============================] - 19s 252ms/step - loss: 1.9714 - accuracy: 0.6338 - val_loss: 2.0621 - val_accuracy: 0.5832\n",
      "Epoch 24/400\n",
      "76/76 [==============================] - 19s 253ms/step - loss: 1.9520 - accuracy: 0.6448 - val_loss: 2.0889 - val_accuracy: 0.5479\n",
      "Epoch 25/400\n",
      "76/76 [==============================] - 19s 249ms/step - loss: 1.9923 - accuracy: 0.6186 - val_loss: 2.0477 - val_accuracy: 0.5983\n",
      "Epoch 26/400\n",
      "76/76 [==============================] - 20s 257ms/step - loss: 1.9697 - accuracy: 0.6367 - val_loss: 2.0474 - val_accuracy: 0.5782\n",
      "Epoch 27/400\n",
      "76/76 [==============================] - 20s 260ms/step - loss: 1.9641 - accuracy: 0.6365 - val_loss: 2.0634 - val_accuracy: 0.5731\n",
      "Epoch 28/400\n",
      "76/76 [==============================] - 20s 257ms/step - loss: 1.9627 - accuracy: 0.6441 - val_loss: 2.0672 - val_accuracy: 0.5697\n",
      "Epoch 29/400\n",
      "76/76 [==============================] - 19s 251ms/step - loss: 1.9818 - accuracy: 0.6259 - val_loss: 2.0731 - val_accuracy: 0.5647\n",
      "Epoch 30/400\n",
      "76/76 [==============================] - 19s 250ms/step - loss: 1.9494 - accuracy: 0.6518 - val_loss: 2.0612 - val_accuracy: 0.5782\n",
      "Epoch 31/400\n",
      "76/76 [==============================] - 19s 250ms/step - loss: 1.9609 - accuracy: 0.6385 - val_loss: 2.0668 - val_accuracy: 0.5681\n",
      "Epoch 32/400\n",
      "76/76 [==============================] - 19s 249ms/step - loss: 1.9585 - accuracy: 0.6383 - val_loss: 2.0589 - val_accuracy: 0.5748\n",
      "Epoch 33/400\n",
      "76/76 [==============================] - 19s 252ms/step - loss: 1.9555 - accuracy: 0.6497 - val_loss: 2.0635 - val_accuracy: 0.5664\n",
      "Epoch 34/400\n",
      "76/76 [==============================] - 19s 248ms/step - loss: 1.9684 - accuracy: 0.6398 - val_loss: 2.0958 - val_accuracy: 0.5697\n",
      "Epoch 35/400\n",
      "76/76 [==============================] - 19s 250ms/step - loss: 1.9479 - accuracy: 0.6483 - val_loss: 2.0565 - val_accuracy: 0.5748\n",
      "Epoch 36/400\n",
      "76/76 [==============================] - 19s 250ms/step - loss: 1.9533 - accuracy: 0.6466 - val_loss: 2.0662 - val_accuracy: 0.5782\n",
      "Epoch 37/400\n",
      "76/76 [==============================] - 19s 249ms/step - loss: 1.9496 - accuracy: 0.6516 - val_loss: 2.0619 - val_accuracy: 0.5950\n",
      "Epoch 38/400\n",
      "76/76 [==============================] - 19s 250ms/step - loss: 1.9506 - accuracy: 0.6462 - val_loss: 2.1217 - val_accuracy: 0.5563\n",
      "Epoch 39/400\n",
      "57/76 [=====================>........] - ETA: 4s - loss: 1.9470 - accuracy: 0.6480"
     ]
    }
   ],
   "source": [
    "with tf.device(\"/device:GPU:0\"):\n",
    "  model.fit(\n",
    "    training_set,\n",
    "    validation_data=val_set,\n",
    "    epochs=400,\n",
    "    callbacks=[early_stop]\n",
    "  )"
   ]
  },
  {
   "cell_type": "code",
   "execution_count": null,
   "id": "7eink4_fi7rF",
   "metadata": {
    "id": "7eink4_fi7rF"
   },
   "outputs": [],
   "source": [
    "#model.save('/content/drive/MyDrive/PokemonClassifier3.h5')"
   ]
  },
  {
   "cell_type": "code",
   "execution_count": null,
   "id": "czech-judge",
   "metadata": {
    "id": "czech-judge",
    "scrolled": true
   },
   "outputs": [],
   "source": [
    "loss = model.history.history['loss']\n",
    "val_loss = model.history.history['val_loss']\n",
    "accuracy = model.history.history['accuracy']\n",
    "val_accuracy = model.history.history['val_accuracy']"
   ]
  },
  {
   "cell_type": "code",
   "execution_count": null,
   "id": "X_-VW1CFwaro",
   "metadata": {
    "colab": {
     "base_uri": "https://localhost:8080/",
     "height": 282
    },
    "id": "X_-VW1CFwaro",
    "outputId": "776e12cd-9de7-492b-e2f8-03cd42e028f5"
   },
   "outputs": [
    {
     "data": {
      "text/plain": [
       "[<matplotlib.lines.Line2D at 0x7ff0703cf790>]"
      ]
     },
     "execution_count": 26,
     "metadata": {
      "tags": []
     },
     "output_type": "execute_result"
    },
    {
     "data": {
      "image/png": "[encoded data removed]",
      "text/plain": [
       "<Figure size 432x288 with 1 Axes>"
      ]
     },
     "metadata": {
      "needs_background": "light",
      "tags": []
     },
     "output_type": "display_data"
    }
   ],
   "source": [
    "plt.plot(loss)\n",
    "plt.plot(val_loss)"
   ]
  },
  {
   "cell_type": "code",
   "execution_count": null,
   "id": "p2MH2Xyxwt0u",
   "metadata": {
    "colab": {
     "base_uri": "https://localhost:8080/",
     "height": 282
    },
    "id": "p2MH2Xyxwt0u",
    "outputId": "4c1f3d90-6aa7-4755-b023-09dd1f238b7c"
   },
   "outputs": [
    {
     "data": {
      "text/plain": [
       "[<matplotlib.lines.Line2D at 0x7ff070168fd0>]"
      ]
     },
     "execution_count": 27,
     "metadata": {
      "tags": []
     },
     "output_type": "execute_result"
    },
    {
     "data": {
      "image/png": "[encoded data removed]",
      "text/plain": [
       "<Figure size 432x288 with 1 Axes>"
      ]
     },
     "metadata": {
      "needs_background": "light",
      "tags": []
     },
     "output_type": "display_data"
    }
   ],
   "source": [
    "plt.plot(accuracy)\n",
    "plt.plot(val_accuracy)"
   ]
  },
  {
   "cell_type": "code",
   "execution_count": 17,
   "id": "puVAKvHB2e4u",
   "metadata": {
    "id": "puVAKvHB2e4u"
   },
   "outputs": [],
   "source": [
    "predictions = model.predict(test_set)"
   ]
  },
  {
   "cell_type": "code",
   "execution_count": 18,
   "id": "aNTfDCKF3NZ2",
   "metadata": {
    "id": "aNTfDCKF3NZ2"
   },
   "outputs": [],
   "source": [
    "for i in range(len(predictions)):\n",
    "  max = 0\n",
    "  for j in range(len(predictions[i])):\n",
    "    if max < predictions[i][j]:\n",
    "      max = predictions[i][j]\n",
    "  predictions[i] = predictions[i] == max"
   ]
  },
  {
   "cell_type": "code",
   "execution_count": 19,
   "id": "2iA2tFPk4Et6",
   "metadata": {
    "id": "2iA2tFPk4Et6"
   },
   "outputs": [],
   "source": [
    "number_of_examples = len(test_set.filenames)\n",
    "number_of_generator_calls = math.ceil(number_of_examples / (1.0 * batch_size)) \n",
    "# 1.0 above is to skip integer division\n",
    "\n",
    "test_labels = []\n",
    "\n",
    "for i in range(0,int(number_of_generator_calls)):\n",
    "    test_labels.extend(np.array(test_set[i][1]))"
   ]
  },
  {
   "cell_type": "code",
   "execution_count": 40,
   "id": "ke7iTHcG40kq",
   "metadata": {
    "id": "ke7iTHcG40kq"
   },
   "outputs": [],
   "source": [
    "label_predictions = np.where(predictions)[1]\n",
    "actual_labels = np.where(test_labels)[1]"
   ]
  },
  {
   "cell_type": "code",
   "execution_count": 41,
   "id": "TqgSi6fv6uui",
   "metadata": {
    "id": "TqgSi6fv6uui"
   },
   "outputs": [],
   "source": [
    "typedict = {0:'Bug',1:'Dark',2:'Dragon',3:'Electric',4:'Fairy',5:'Fighting',6:'Fire',7:'Flying',8:'Ghost',9:'Grass',10:'Ground',11:'Ice',12:'Normal',13:'Poison',14:'Psychic',15:'Rock',16:'Steel',17:'Water'}\n",
    "output = pd.DataFrame()\n",
    "output['predictions'] = label_predictions\n",
    "output['actual'] = actual_labels\n",
    "output['predictions'] = output['predictions'].map(typedict)\n",
    "output['actual'] = output['actual'].map(typedict)\n",
    "comparison_column = np.where(output[\"actual\"] == output[\"predictions\"], True, False)\n",
    "output['equal'] = comparison_column"
   ]
  },
  {
   "cell_type": "code",
   "execution_count": 43,
   "id": "2Mldq1wo8AgZ",
   "metadata": {
    "colab": {
     "base_uri": "https://localhost:8080/"
    },
    "id": "2Mldq1wo8AgZ",
    "outputId": "f9d62e3c-ee11-439f-f7f2-a6d273dd3073"
   },
   "outputs": [
    {
     "data": {
      "text/plain": [
       "True     496\n",
       "False    123\n",
       "Name: equal, dtype: int64"
      ]
     },
     "execution_count": 43,
     "metadata": {},
     "output_type": "execute_result"
    }
   ],
   "source": [
    "output['equal'].value_counts()"
   ]
  },
  {
   "cell_type": "code",
   "execution_count": 23,
   "id": "serial-screening",
   "metadata": {
    "id": "serial-screening"
   },
   "outputs": [],
   "source": [
    "from sklearn.metrics import classification_report,confusion_matrix"
   ]
  },
  {
   "cell_type": "code",
   "execution_count": 26,
   "id": "XvZqC8AkYOUF",
   "metadata": {
    "colab": {
     "base_uri": "https://localhost:8080/"
    },
    "id": "XvZqC8AkYOUF",
    "outputId": "0fc74c8e-932e-42c7-98cc-2edc55987518"
   },
   "outputs": [
    {
     "name": "stdout",
     "output_type": "stream",
     "text": [
      "              precision    recall  f1-score   support\n",
      "\n",
      "           0       0.80      0.67      0.73        42\n",
      "           1       0.84      0.91      0.87        23\n",
      "           2       0.83      0.62      0.71        24\n",
      "           3       0.94      0.78      0.85        40\n",
      "           4       0.91      0.71      0.80        14\n",
      "           5       0.72      0.86      0.78        21\n",
      "           6       0.78      0.76      0.77        46\n",
      "           7       1.00      1.00      1.00         2\n",
      "           8       0.75      0.88      0.81        17\n",
      "           9       0.91      0.94      0.92        51\n",
      "          10       0.81      0.68      0.74        25\n",
      "          11       0.90      0.64      0.75        14\n",
      "          12       0.86      0.88      0.87        85\n",
      "          13       0.83      0.65      0.73        23\n",
      "          14       0.76      0.98      0.86        49\n",
      "          15       0.71      0.75      0.73        36\n",
      "          16       0.57      0.71      0.63        17\n",
      "          17       0.74      0.78      0.76        90\n",
      "\n",
      "   micro avg       0.80      0.80      0.80       619\n",
      "   macro avg       0.81      0.79      0.80       619\n",
      "weighted avg       0.81      0.80      0.80       619\n",
      " samples avg       0.80      0.80      0.80       619\n",
      "\n"
     ]
    }
   ],
   "source": [
    "print(classification_report(test_labels, predictions))"
   ]
  },
  {
   "cell_type": "code",
   "execution_count": 27,
   "id": "controversial-death",
   "metadata": {
    "colab": {
     "base_uri": "https://localhost:8080/"
    },
    "id": "controversial-death",
    "outputId": "86659805-6c8e-425e-9e11-7848e393c8ee"
   },
   "outputs": [
    {
     "name": "stdout",
     "output_type": "stream",
     "text": [
      "              precision    recall  f1-score   support\n",
      "\n",
      "           0       0.80      0.67      0.73        42\n",
      "           1       0.84      0.91      0.87        23\n",
      "           2       0.83      0.62      0.71        24\n",
      "           3       0.94      0.78      0.85        40\n",
      "           4       0.91      0.71      0.80        14\n",
      "           5       0.72      0.86      0.78        21\n",
      "           6       0.78      0.76      0.77        46\n",
      "           7       1.00      1.00      1.00         2\n",
      "           8       0.75      0.88      0.81        17\n",
      "           9       0.91      0.94      0.92        51\n",
      "          10       0.81      0.68      0.74        25\n",
      "          11       0.90      0.64      0.75        14\n",
      "          12       0.86      0.88      0.87        85\n",
      "          13       0.83      0.65      0.73        23\n",
      "          14       0.76      0.98      0.86        49\n",
      "          15       0.71      0.75      0.73        36\n",
      "          16       0.57      0.71      0.63        17\n",
      "          17       0.74      0.78      0.76        90\n",
      "\n",
      "   micro avg       0.80      0.80      0.80       619\n",
      "   macro avg       0.81      0.79      0.80       619\n",
      "weighted avg       0.81      0.80      0.80       619\n",
      " samples avg       0.80      0.80      0.80       619\n",
      "\n"
     ]
    }
   ],
   "source": [
    "print(classification_report(test_labels, predictions))"
   ]
  },
  {
   "cell_type": "code",
   "execution_count": 61,
   "id": "reserved-samoa",
   "metadata": {},
   "outputs": [
    {
     "data": {
      "text/plain": [
       "array([12], dtype=int64)"
      ]
     },
     "execution_count": 61,
     "metadata": {},
     "output_type": "execute_result"
    }
   ],
   "source": [
    "from PIL import Image\n",
    "from skimage import transform\n",
    "np_image = Image.open('C:\\\\Users\\\\Asrra\\\\OneDrive\\\\Documents\\\\Code\\\\Python\\\\Pokemon Classification\\\\new_images_classified_only_100\\\\test\\\\Normal\\\\Ambipom99.jpg')\n",
    "np_image = np.array(np_image).astype('float32')/255\n",
    "np_image = transform.resize(np_image, (128, 128, 3))\n",
    "np_image = np.expand_dims(np_image, axis=0)\n",
    "model.predict_classes(np_image)"
   ]
  },
  {
   "cell_type": "code",
   "execution_count": null,
   "id": "3paTKH1AYcP2",
   "metadata": {
    "colab": {
     "base_uri": "https://localhost:8080/"
    },
    "id": "3paTKH1AYcP2",
    "outputId": "9b366e93-4cf5-47fb-be6b-d8cbe5af8a3e"
   },
   "outputs": [
    {
     "name": "stdout",
     "output_type": "stream",
     "text": [
      "Model: \"sequential\"\n",
      "_________________________________________________________________\n",
      "Layer (type)                 Output Shape              Param #   \n",
      "=================================================================\n",
      "conv2d (Conv2D)              (None, 128, 128, 32)      896       \n",
      "_________________________________________________________________\n",
      "batch_normalization (BatchNo (None, 128, 128, 32)      128       \n",
      "_________________________________________________________________\n",
      "max_pooling2d (MaxPooling2D) (None, 42, 42, 32)        0         \n",
      "_________________________________________________________________\n",
      "dropout (Dropout)            (None, 42, 42, 32)        0         \n",
      "_________________________________________________________________\n",
      "conv2d_1 (Conv2D)            (None, 42, 42, 64)        51264     \n",
      "_________________________________________________________________\n",
      "batch_normalization_1 (Batch (None, 42, 42, 64)        256       \n",
      "_________________________________________________________________\n",
      "conv2d_2 (Conv2D)            (None, 42, 42, 64)        102464    \n",
      "_________________________________________________________________\n",
      "batch_normalization_2 (Batch (None, 42, 42, 64)        256       \n",
      "_________________________________________________________________\n",
      "max_pooling2d_1 (MaxPooling2 (None, 14, 14, 64)        0         \n",
      "_________________________________________________________________\n",
      "dropout_1 (Dropout)          (None, 14, 14, 64)        0         \n",
      "_________________________________________________________________\n",
      "conv2d_3 (Conv2D)            (None, 14, 14, 128)       204928    \n",
      "_________________________________________________________________\n",
      "batch_normalization_3 (Batch (None, 14, 14, 128)       512       \n",
      "_________________________________________________________________\n",
      "conv2d_4 (Conv2D)            (None, 14, 14, 128)       409728    \n",
      "_________________________________________________________________\n",
      "batch_normalization_4 (Batch (None, 14, 14, 128)       512       \n",
      "_________________________________________________________________\n",
      "max_pooling2d_2 (MaxPooling2 (None, 4, 4, 128)         0         \n",
      "_________________________________________________________________\n",
      "dropout_2 (Dropout)          (None, 4, 4, 128)         0         \n",
      "_________________________________________________________________\n",
      "flatten (Flatten)            (None, 2048)              0         \n",
      "_________________________________________________________________\n",
      "dense (Dense)                (None, 1024)              2098176   \n",
      "_________________________________________________________________\n",
      "batch_normalization_5 (Batch (None, 1024)              4096      \n",
      "_________________________________________________________________\n",
      "dropout_3 (Dropout)          (None, 1024)              0         \n",
      "_________________________________________________________________\n",
      "dense_1 (Dense)              (None, 18)                18450     \n",
      "=================================================================\n",
      "Total params: 2,891,666\n",
      "Trainable params: 2,888,786\n",
      "Non-trainable params: 2,880\n",
      "_________________________________________________________________\n"
     ]
    }
   ],
   "source": [
    "model.summary()"
   ]
  }
 ],
 "metadata": {
  "accelerator": "GPU",
  "colab": {
   "collapsed_sections": [],
   "name": "Pokemon Classification.ipynb",
   "provenance": []
  },
  "kernelspec": {
   "display_name": "Python 3",
   "language": "python",
   "name": "python3"
  },
  "language_info": {
   "codemirror_mode": {
    "name": "ipython",
    "version": 3
   },
   "file_extension": ".py",
   "mimetype": "text/x-python",
   "name": "python",
   "nbconvert_exporter": "python",
   "pygments_lexer": "ipython3",
   "version": "3.8.8"
  }
 },
 "nbformat": 4,
 "nbformat_minor": 5
}
