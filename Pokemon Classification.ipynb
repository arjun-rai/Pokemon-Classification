{
 "cells": [
  {
   "cell_type": "code",
   "execution_count": 1,
   "id": "parental-session",
   "metadata": {},
   "outputs": [],
   "source": [
    "import matplotlib.pyplot as plt\n",
    "import seaborn as sns\n",
    "import numpy as np\n",
    "import pandas as pd\n",
    "import pathlib\n",
    "import PIL\n",
    "import tensorflow as tf\n",
    "import tensorflow_datasets as tfds\n",
    "import shutil\n",
    "import os"
   ]
  },
  {
   "cell_type": "code",
   "execution_count": 2,
   "id": "outstanding-confusion",
   "metadata": {},
   "outputs": [],
   "source": [
    "pkmon = pd.read_csv(\"pokemon.csv\")\n",
    "pkmon = pkmon.set_index(\"Name\")"
   ]
  },
  {
   "cell_type": "code",
   "execution_count": 11,
   "id": "flying-office",
   "metadata": {},
   "outputs": [
    {
     "data": {
      "text/html": [
       "<div>\n",
       "<style scoped>\n",
       "    .dataframe tbody tr th:only-of-type {\n",
       "        vertical-align: middle;\n",
       "    }\n",
       "\n",
       "    .dataframe tbody tr th {\n",
       "        vertical-align: top;\n",
       "    }\n",
       "\n",
       "    .dataframe thead th {\n",
       "        text-align: right;\n",
       "    }\n",
       "</style>\n",
       "<table border=\"1\" class=\"dataframe\">\n",
       "  <thead>\n",
       "    <tr style=\"text-align: right;\">\n",
       "      <th></th>\n",
       "      <th>Type1</th>\n",
       "      <th>Type2</th>\n",
       "    </tr>\n",
       "    <tr>\n",
       "      <th>Name</th>\n",
       "      <th></th>\n",
       "      <th></th>\n",
       "    </tr>\n",
       "  </thead>\n",
       "  <tbody>\n",
       "    <tr>\n",
       "      <th>bulbasaur</th>\n",
       "      <td>Grass</td>\n",
       "      <td>Poison</td>\n",
       "    </tr>\n",
       "    <tr>\n",
       "      <th>ivysaur</th>\n",
       "      <td>Grass</td>\n",
       "      <td>Poison</td>\n",
       "    </tr>\n",
       "    <tr>\n",
       "      <th>venusaur</th>\n",
       "      <td>Grass</td>\n",
       "      <td>Poison</td>\n",
       "    </tr>\n",
       "    <tr>\n",
       "      <th>charmander</th>\n",
       "      <td>Fire</td>\n",
       "      <td>NaN</td>\n",
       "    </tr>\n",
       "    <tr>\n",
       "      <th>charmeleon</th>\n",
       "      <td>Fire</td>\n",
       "      <td>NaN</td>\n",
       "    </tr>\n",
       "  </tbody>\n",
       "</table>\n",
       "</div>"
      ],
      "text/plain": [
       "            Type1   Type2\n",
       "Name                     \n",
       "bulbasaur   Grass  Poison\n",
       "ivysaur     Grass  Poison\n",
       "venusaur    Grass  Poison\n",
       "charmander   Fire     NaN\n",
       "charmeleon   Fire     NaN"
      ]
     },
     "execution_count": 11,
     "metadata": {},
     "output_type": "execute_result"
    }
   ],
   "source": [
    "pkmon.head()"
   ]
  },
  {
   "cell_type": "code",
   "execution_count": 4,
   "id": "precious-absence",
   "metadata": {},
   "outputs": [
    {
     "data": {
      "text/html": [
       "<div>\n",
       "<style scoped>\n",
       "    .dataframe tbody tr th:only-of-type {\n",
       "        vertical-align: middle;\n",
       "    }\n",
       "\n",
       "    .dataframe tbody tr th {\n",
       "        vertical-align: top;\n",
       "    }\n",
       "\n",
       "    .dataframe thead th {\n",
       "        text-align: right;\n",
       "    }\n",
       "</style>\n",
       "<table border=\"1\" class=\"dataframe\">\n",
       "  <thead>\n",
       "    <tr style=\"text-align: right;\">\n",
       "      <th></th>\n",
       "      <th>Type1</th>\n",
       "      <th>Type2</th>\n",
       "    </tr>\n",
       "    <tr>\n",
       "      <th>Name</th>\n",
       "      <th></th>\n",
       "      <th></th>\n",
       "    </tr>\n",
       "  </thead>\n",
       "  <tbody>\n",
       "    <tr>\n",
       "      <th>bulbasaur</th>\n",
       "      <td>Grass</td>\n",
       "      <td>Poison</td>\n",
       "    </tr>\n",
       "    <tr>\n",
       "      <th>ivysaur</th>\n",
       "      <td>Grass</td>\n",
       "      <td>Poison</td>\n",
       "    </tr>\n",
       "    <tr>\n",
       "      <th>venusaur</th>\n",
       "      <td>Grass</td>\n",
       "      <td>Poison</td>\n",
       "    </tr>\n",
       "    <tr>\n",
       "      <th>charmander</th>\n",
       "      <td>Fire</td>\n",
       "      <td>NaN</td>\n",
       "    </tr>\n",
       "    <tr>\n",
       "      <th>charmeleon</th>\n",
       "      <td>Fire</td>\n",
       "      <td>NaN</td>\n",
       "    </tr>\n",
       "    <tr>\n",
       "      <th>...</th>\n",
       "      <td>...</td>\n",
       "      <td>...</td>\n",
       "    </tr>\n",
       "    <tr>\n",
       "      <th>stakataka</th>\n",
       "      <td>Rock</td>\n",
       "      <td>Steel</td>\n",
       "    </tr>\n",
       "    <tr>\n",
       "      <th>blacephalon</th>\n",
       "      <td>Fire</td>\n",
       "      <td>Ghost</td>\n",
       "    </tr>\n",
       "    <tr>\n",
       "      <th>zeraora</th>\n",
       "      <td>Electric</td>\n",
       "      <td>NaN</td>\n",
       "    </tr>\n",
       "    <tr>\n",
       "      <th>meltan</th>\n",
       "      <td>Steel</td>\n",
       "      <td>NaN</td>\n",
       "    </tr>\n",
       "    <tr>\n",
       "      <th>melmetal</th>\n",
       "      <td>Steel</td>\n",
       "      <td>NaN</td>\n",
       "    </tr>\n",
       "  </tbody>\n",
       "</table>\n",
       "<p>809 rows × 2 columns</p>\n",
       "</div>"
      ],
      "text/plain": [
       "                Type1   Type2\n",
       "Name                         \n",
       "bulbasaur       Grass  Poison\n",
       "ivysaur         Grass  Poison\n",
       "venusaur        Grass  Poison\n",
       "charmander       Fire     NaN\n",
       "charmeleon       Fire     NaN\n",
       "...               ...     ...\n",
       "stakataka        Rock   Steel\n",
       "blacephalon      Fire   Ghost\n",
       "zeraora      Electric     NaN\n",
       "meltan          Steel     NaN\n",
       "melmetal        Steel     NaN\n",
       "\n",
       "[809 rows x 2 columns]"
      ]
     },
     "execution_count": 4,
     "metadata": {},
     "output_type": "execute_result"
    }
   ],
   "source": [
    "pkmon"
   ]
  },
  {
   "cell_type": "code",
   "execution_count": 12,
   "id": "effective-harmony",
   "metadata": {},
   "outputs": [],
   "source": [
    "pkmondir = pathlib.Path('C:\\\\Users\\\\Asrra\\\\OneDrive\\\\Documents\\\\Code\\\\Python\\\\Pokemon Classification\\\\images')"
   ]
  },
  {
   "cell_type": "code",
   "execution_count": 13,
   "id": "earned-birth",
   "metadata": {},
   "outputs": [
    {
     "name": "stdout",
     "output_type": "stream",
     "text": [
      "0\n"
     ]
    }
   ],
   "source": [
    "image_count = len(list(pkmondir.glob('**/*.png')))\n",
    "print(image_count)"
   ]
  },
  {
   "cell_type": "code",
   "execution_count": 7,
   "id": "pursuant-supervision",
   "metadata": {
    "scrolled": true
   },
   "outputs": [],
   "source": [
    "#PIL.Image.open(str(list(pkmondir.glob('**/*.png'))[0]))"
   ]
  },
  {
   "cell_type": "code",
   "execution_count": 4,
   "id": "noble-parliament",
   "metadata": {},
   "outputs": [
    {
     "data": {
      "text/plain": [
       "array(['Grass', 'Fire', 'Water', 'Bug', 'Normal', 'Poison', 'Electric',\n",
       "       'Ground', 'Fairy', 'Fighting', 'Psychic', 'Rock', 'Ghost', 'Ice',\n",
       "       'Dragon', 'Dark', 'Steel', 'Flying'], dtype=object)"
      ]
     },
     "execution_count": 4,
     "metadata": {},
     "output_type": "execute_result"
    }
   ],
   "source": [
    "types = pkmon['Type1'].unique()\n",
    "types"
   ]
  },
  {
   "cell_type": "code",
   "execution_count": 6,
   "id": "temporal-classics",
   "metadata": {},
   "outputs": [],
   "source": [
    "#Make folders for each type\n",
    "# for tpe in types:\n",
    "#     os.mkdir('C:\\\\Users\\\\Asrra\\\\OneDrive\\\\Documents\\\\Code\\\\Python\\\\Pokemon Classification\\\\images_classified\\\\' + tpe)"
   ]
  },
  {
   "cell_type": "code",
   "execution_count": null,
   "id": "moving-appraisal",
   "metadata": {},
   "outputs": [],
   "source": [
    "#type 2 code no worky\n",
    "# for tpe in types:\n",
    "#    for tpe2 in types:\n",
    "#        if tpe != tpe2:\n",
    "#           os.mkdir('C:\\\\Users\\\\Asrra\\\\OneDrive\\\\Documents\\\\Code\\\\Python\\\\Pokemon Classification\\\\images_classified\\\\' + tpe + '_' + tpe2)\n",
    "\n",
    "\n",
    "#Used to move images from images folder into sorted by type and type 2, had to use both with .png and .jpg no worky\n",
    "# for file in pkmondir.glob('**/*.png'):\n",
    "#    name = str(file)\n",
    "#    name = name[name.index(\"images\\\\\")+7:-4]\n",
    "#    if (str(pkmon.loc[name]['Type2'])==\"nan\"):\n",
    "#        shutil.move('C:\\\\Users\\\\Asrra\\\\OneDrive\\\\Documents\\\\Code\\\\Python\\\\Pokemon Classification\\\\images\\\\' + name + \".png\", \n",
    "#                   'C:\\\\Users\\\\Asrra\\\\OneDrive\\\\Documents\\\\Code\\\\Python\\\\Pokemon Classification\\\\images_classified\\\\' + pkmon.loc[name]['Type1'] + '\\\\' + name + \".png\")\n",
    "#    else:\n",
    "#        shutil.move('C:\\\\Users\\\\Asrra\\\\OneDrive\\\\Documents\\\\Code\\\\Python\\\\Pokemon Classification\\\\images\\\\' + name + \".png\", \n",
    "#                   'C:\\\\Users\\\\Asrra\\\\OneDrive\\\\Documents\\\\Code\\\\Python\\\\Pokemon Classification\\\\images_classified\\\\' + pkmon.loc[name]['Type1'] + \"_\" + pkmon.loc[name]['Type2'] + '\\\\' + name + \".png\")\n"
   ]
  },
  {
   "cell_type": "code",
   "execution_count": 12,
   "id": "polyphonic-minority",
   "metadata": {},
   "outputs": [],
   "source": [
    "# for file in pkmondir.glob('**/*.png'):\n",
    "#    name = str(file)\n",
    "#    name = name[name.index(\"images\\\\\")+7:-4]\n",
    "#    shutil.move('C:\\\\Users\\\\Asrra\\\\OneDrive\\\\Documents\\\\Code\\\\Python\\\\Pokemon Classification\\\\images\\\\' + name + \".png\", \n",
    "#                   'C:\\\\Users\\\\Asrra\\\\OneDrive\\\\Documents\\\\Code\\\\Python\\\\Pokemon Classification\\\\images_classified\\\\' + pkmon.loc[name]['Type1'] + '\\\\' + name + \".png\")"
   ]
  },
  {
   "cell_type": "code",
   "execution_count": 13,
   "id": "overhead-incident",
   "metadata": {},
   "outputs": [],
   "source": [
    "# for file in pkmondir.glob('**/*.jpg'):\n",
    "#    name = str(file)\n",
    "#    name = name[name.index(\"images\\\\\")+7:-4]\n",
    "#    shutil.move('C:\\\\Users\\\\Asrra\\\\OneDrive\\\\Documents\\\\Code\\\\Python\\\\Pokemon Classification\\\\images\\\\' + name + \".jpg\", \n",
    "#                   'C:\\\\Users\\\\Asrra\\\\OneDrive\\\\Documents\\\\Code\\\\Python\\\\Pokemon Classification\\\\images_classified\\\\' + pkmon.loc[name]['Type1'] + '\\\\' + name + \".jpg\")"
   ]
  },
  {
   "cell_type": "code",
   "execution_count": 8,
   "id": "intended-serial",
   "metadata": {},
   "outputs": [],
   "source": [
    "pkmonpics2 = np.load('C:\\\\Users\\\\Asrra\\\\OneDrive\\\\Documents\\\\Code\\\\Python\\\\Pokemon Classification\\\\poke_image_data.npy')"
   ]
  },
  {
   "cell_type": "code",
   "execution_count": 10,
   "id": "royal-newfoundland",
   "metadata": {},
   "outputs": [
    {
     "data": {
      "text/html": [
       "<div>\n",
       "<style scoped>\n",
       "    .dataframe tbody tr th:only-of-type {\n",
       "        vertical-align: middle;\n",
       "    }\n",
       "\n",
       "    .dataframe tbody tr th {\n",
       "        vertical-align: top;\n",
       "    }\n",
       "\n",
       "    .dataframe thead th {\n",
       "        text-align: right;\n",
       "    }\n",
       "</style>\n",
       "<table border=\"1\" class=\"dataframe\">\n",
       "  <thead>\n",
       "    <tr style=\"text-align: right;\">\n",
       "      <th></th>\n",
       "      <th>name</th>\n",
       "      <th>strength</th>\n",
       "    </tr>\n",
       "  </thead>\n",
       "  <tbody>\n",
       "    <tr>\n",
       "      <th>0</th>\n",
       "      <td>Abomasnow</td>\n",
       "      <td>494</td>\n",
       "    </tr>\n",
       "    <tr>\n",
       "      <th>1</th>\n",
       "      <td>Abomasnow</td>\n",
       "      <td>494</td>\n",
       "    </tr>\n",
       "    <tr>\n",
       "      <th>2</th>\n",
       "      <td>Abomasnow</td>\n",
       "      <td>494</td>\n",
       "    </tr>\n",
       "    <tr>\n",
       "      <th>3</th>\n",
       "      <td>Abomasnow</td>\n",
       "      <td>494</td>\n",
       "    </tr>\n",
       "    <tr>\n",
       "      <th>4</th>\n",
       "      <td>Abomasnow</td>\n",
       "      <td>494</td>\n",
       "    </tr>\n",
       "  </tbody>\n",
       "</table>\n",
       "</div>"
      ],
      "text/plain": [
       "        name  strength\n",
       "0  Abomasnow       494\n",
       "1  Abomasnow       494\n",
       "2  Abomasnow       494\n",
       "3  Abomasnow       494\n",
       "4  Abomasnow       494"
      ]
     },
     "execution_count": 10,
     "metadata": {},
     "output_type": "execute_result"
    }
   ],
   "source": [
    "pkmon2 = pd.read_csv('names_and_strengths.csv')\n",
    "pkmon2.head()"
   ]
  },
  {
   "cell_type": "code",
   "execution_count": 11,
   "id": "american-paris",
   "metadata": {},
   "outputs": [],
   "source": [
    "#new images\n",
    "# from PIL import Image\n",
    "# for i in range(len(pkmonpics2)):\n",
    "#    im = Image.fromarray(pkmonpics2[i])\n",
    "#    im.save('C:\\\\Users\\\\Asrra\\\\OneDrive\\\\Documents\\\\Code\\\\Python\\\\Pokemon Classification\\\\newimg\\\\' + pkmon2.iloc[i]['name'] + str(i) + \".png\")"
   ]
  },
  {
   "cell_type": "code",
   "execution_count": 12,
   "id": "certain-vanilla",
   "metadata": {},
   "outputs": [],
   "source": [
    "newpkmondir = pathlib.Path('C:\\\\Users\\\\Asrra\\\\OneDrive\\\\Documents\\\\Code\\\\Python\\\\Pokemon Classification\\\\newimg')\n",
    "pkmon_with_changes = pd.read_csv('pokemon_with_newimg_changes.csv')\n",
    "pkmon_with_changes = pkmon_with_changes.set_index(\"Name\")"
   ]
  },
  {
   "cell_type": "code",
   "execution_count": 15,
   "id": "trained-antibody",
   "metadata": {},
   "outputs": [],
   "source": [
    "#moves newimg into sorted folders\n",
    "for file in newpkmondir.glob('**/*.png'):\n",
    "    name = str(file).lower()\n",
    "    name = name[name.index(\"newimg\\\\\")+7:[x.isdigit() for x in name].index(True)]\n",
    "    for file2 in newpkmondir.glob(name + \"*\"):\n",
    "        name2 = str(file2)[str(file2).index(\"newimg\\\\\")+7:-4]\n",
    "        shutil.move(file2, \n",
    "                      'C:\\\\Users\\\\Asrra\\\\OneDrive\\\\Documents\\\\Code\\\\Python\\\\Pokemon Classification\\\\images_classified\\\\' + pkmon_with_changes.loc[name]['Type1'] + '\\\\' + name2 + \".jpg\")"
   ]
  },
  {
   "cell_type": "code",
   "execution_count": 56,
   "id": "western-burlington",
   "metadata": {},
   "outputs": [],
   "source": [
    "#delete empty folders\n",
    "# for file in pkmonclassifieddir.glob('**\\\\'):\n",
    "#     if len(os.listdir(file)) == 0: # Check if the folder is empty\n",
    "#         shutil.rmtree(file)"
   ]
  },
  {
   "cell_type": "code",
   "execution_count": 17,
   "id": "biological-paste",
   "metadata": {},
   "outputs": [],
   "source": [
    "batch_size = 32\n",
    "img_height = 100\n",
    "img_width = 100"
   ]
  },
  {
   "cell_type": "code",
   "execution_count": 17,
   "id": "designing-twist",
   "metadata": {},
   "outputs": [],
   "source": [
    "#new path for classified pokemon\n",
    "pkmonclassifieddir = pathlib.Path('C:\\\\Users\\\\Asrra\\\\OneDrive\\\\Documents\\\\Code\\\\Python\\\\Pokemon Classification\\\\images_classified')"
   ]
  },
  {
   "cell_type": "code",
   "execution_count": 19,
   "id": "julian-greene",
   "metadata": {
    "scrolled": true
   },
   "outputs": [
    {
     "name": "stderr",
     "output_type": "stream",
     "text": [
      "\n",
      "Copying files: 0 files [00:00, ? files/s]\u001b[A\n",
      "Copying files: 69 files [00:00, 683.30 files/s]\u001b[A\n",
      "Copying files: 164 files [00:00, 818.49 files/s]\u001b[A\n",
      "Copying files: 266 files [00:00, 882.63 files/s]\u001b[A\n",
      "Copying files: 373 files [00:00, 914.91 files/s]\u001b[A\n",
      "Copying files: 465 files [00:00, 878.38 files/s]\u001b[A\n",
      "Copying files: 559 files [00:00, 896.02 files/s]\u001b[A\n",
      "Copying files: 651 files [00:00, 887.15 files/s]\u001b[A\n",
      "Copying files: 747 files [00:00, 898.92 files/s]\u001b[A\n",
      "Copying files: 845 files [00:00, 910.92 files/s]\u001b[A\n",
      "Copying files: 937 files [00:01, 864.91 files/s]\u001b[A\n",
      "Copying files: 1039 files [00:01, 891.87 files/s]\u001b[A\n",
      "Copying files: 1151 files [00:01, 918.30 files/s]\u001b[A\n",
      "Copying files: 1257 files [00:01, 925.38 files/s]\u001b[A\n",
      "Copying files: 1354 files [00:01, 937.36 files/s]\u001b[A\n",
      "Copying files: 1448 files [00:01, 921.09 files/s]\u001b[A\n",
      "Copying files: 1541 files [00:01, 918.68 files/s]\u001b[A\n",
      "Copying files: 1633 files [00:01, 881.18 files/s]\u001b[A\n",
      "Copying files: 1722 files [00:01, 880.35 files/s]\u001b[A\n",
      "Copying files: 1811 files [00:02, 869.93 files/s]\u001b[A\n",
      "Copying files: 1899 files [00:02, 838.29 files/s]\u001b[A\n",
      "Copying files: 1989 files [00:02, 855.77 files/s]\u001b[A\n",
      "Copying files: 2075 files [00:02, 847.25 files/s]\u001b[A\n",
      "Copying files: 2169 files [00:02, 873.14 files/s]\u001b[A\n",
      "Copying files: 2257 files [00:02, 849.93 files/s]\u001b[A\n",
      "Copying files: 2356 files [00:02, 864.25 files/s]\u001b[A\n",
      "Copying files: 2463 files [00:02, 893.04 files/s]\u001b[A\n",
      "Copying files: 2574 files [00:02, 925.16 files/s]\u001b[A\n",
      "Copying files: 2667 files [00:03, 912.08 files/s]\u001b[A\n",
      "Copying files: 2759 files [00:03, 827.17 files/s]\u001b[A\n",
      "Copying files: 2856 files [00:03, 841.25 files/s]\u001b[A\n",
      "Copying files: 2956 files [00:03, 863.87 files/s]\u001b[A\n",
      "Copying files: 3052 files [00:03, 887.03 files/s]\u001b[A\n",
      "Copying files: 3142 files [00:03, 802.68 files/s]\u001b[A\n",
      "Copying files: 3242 files [00:03, 834.54 files/s]\u001b[A\n",
      "Copying files: 3341 files [00:03, 875.95 files/s]\u001b[A\n",
      "Copying files: 3447 files [00:03, 906.98 files/s]\u001b[A\n",
      "Copying files: 3539 files [00:04, 889.20 files/s]\u001b[A\n",
      "Copying files: 3629 files [00:04, 889.74 files/s]\u001b[A\n",
      "Copying files: 3719 files [00:04, 882.58 files/s]\u001b[A\n",
      "Copying files: 3811 files [00:04, 891.00 files/s]\u001b[A\n",
      "Copying files: 3904 files [00:04, 902.33 files/s]\u001b[A\n",
      "Copying files: 3995 files [00:04, 835.91 files/s]\u001b[A\n",
      "Copying files: 4087 files [00:04, 856.99 files/s]\u001b[A\n",
      "Copying files: 4174 files [00:04, 818.76 files/s]\u001b[A\n",
      "Copying files: 4274 files [00:04, 867.10 files/s]\u001b[A\n",
      "Copying files: 4368 files [00:04, 887.82 files/s]\u001b[A\n",
      "Copying files: 4458 files [00:05, 876.16 files/s]\u001b[A\n",
      "Copying files: 4550 files [00:05, 888.81 files/s]\u001b[A\n",
      "Copying files: 4640 files [00:05, 838.24 files/s]\u001b[A\n",
      "Copying files: 4736 files [00:05, 871.89 files/s]\u001b[A\n",
      "Copying files: 4826 files [00:05, 879.94 files/s]\u001b[A\n",
      "Copying files: 4916 files [00:05, 883.21 files/s]\u001b[A\n",
      "Copying files: 5005 files [00:05, 872.79 files/s]\u001b[A\n",
      "Copying files: 5093 files [00:05, 716.03 files/s]\u001b[A\n",
      "Copying files: 5170 files [00:06, 324.01 files/s]\u001b[A\n",
      "Copying files: 5228 files [00:06, 262.95 files/s]\u001b[A\n",
      "Copying files: 5273 files [00:07, 233.04 files/s]\u001b[A\n",
      "Copying files: 5310 files [00:07, 201.52 files/s]\u001b[A\n",
      "Copying files: 5340 files [00:07, 193.31 files/s]\u001b[A\n",
      "Copying files: 5366 files [00:07, 184.55 files/s]\u001b[A\n",
      "Copying files: 5389 files [00:07, 177.54 files/s]\u001b[A\n",
      "Copying files: 5410 files [00:08, 170.96 files/s]\u001b[A\n",
      "Copying files: 5429 files [00:08, 166.13 files/s]\u001b[A\n",
      "Copying files: 5447 files [00:08, 164.25 files/s]\u001b[A\n",
      "Copying files: 5464 files [00:08, 156.45 files/s]\u001b[A\n",
      "Copying files: 5480 files [00:08, 156.28 files/s]\u001b[A\n",
      "Copying files: 5496 files [00:08, 146.54 files/s]\u001b[A\n",
      "Copying files: 5511 files [00:08, 145.96 files/s]\u001b[A\n",
      "Copying files: 5527 files [00:08, 148.57 files/s]\u001b[A\n",
      "Copying files: 5547 files [00:08, 156.66 files/s]\u001b[A\n",
      "Copying files: 5564 files [00:09, 157.48 files/s]\u001b[A\n",
      "Copying files: 5581 files [00:09, 155.07 files/s]\u001b[A\n",
      "Copying files: 5597 files [00:09, 154.42 files/s]\u001b[A\n",
      "Copying files: 5614 files [00:09, 155.27 files/s]\u001b[A\n",
      "Copying files: 5630 files [00:09, 155.06 files/s]\u001b[A\n",
      "Copying files: 5646 files [00:09, 152.24 files/s]\u001b[A\n",
      "Copying files: 5662 files [00:09, 151.90 files/s]\u001b[A\n",
      "Copying files: 5679 files [00:09, 151.78 files/s]\u001b[A\n",
      "Copying files: 5697 files [00:09, 154.58 files/s]\u001b[A\n",
      "Copying files: 5714 files [00:10, 154.43 files/s]\u001b[A\n",
      "Copying files: 5731 files [00:10, 155.06 files/s]\u001b[A\n",
      "Copying files: 5749 files [00:10, 155.58 files/s]\u001b[A\n",
      "Copying files: 5765 files [00:10, 156.49 files/s]\u001b[A\n",
      "Copying files: 5781 files [00:10, 154.63 files/s]\u001b[A\n",
      "Copying files: 5797 files [00:10, 147.96 files/s]\u001b[A\n",
      "Copying files: 5812 files [00:10, 144.90 files/s]\u001b[A\n",
      "Copying files: 5829 files [00:10, 149.89 files/s]\u001b[A\n",
      "Copying files: 5845 files [00:10, 151.69 files/s]\u001b[A\n",
      "Copying files: 5861 files [00:11, 151.49 files/s]\u001b[A\n",
      "Copying files: 5877 files [00:11, 150.90 files/s]\u001b[A\n",
      "Copying files: 5893 files [00:11, 150.91 files/s]\u001b[A\n",
      "Copying files: 5909 files [00:11, 136.85 files/s]\u001b[A\n",
      "Copying files: 5924 files [00:11, 139.17 files/s]\u001b[A\n",
      "Copying files: 5939 files [00:11, 140.22 files/s]\u001b[A\n",
      "Copying files: 5957 files [00:11, 147.26 files/s]\u001b[A\n",
      "Copying files: 5972 files [00:11, 146.84 files/s]\u001b[A\n",
      "Copying files: 5987 files [00:11, 142.87 files/s]\u001b[A\n",
      "Copying files: 6002 files [00:12, 139.24 files/s]\u001b[A\n",
      "Copying files: 6016 files [00:12, 136.47 files/s]\u001b[A\n",
      "Copying files: 6036 files [00:12, 490.13 files/s]\u001b[A\n"
     ]
    }
   ],
   "source": [
    "import splitfolders\n",
    "splitfolders.ratio(pkmonclassifieddir, output=\"C:\\\\Users\\\\Asrra\\\\OneDrive\\\\Documents\\\\Code\\\\Python\\\\Pokemon Classification\\\\new_images_classified_only_100\", seed=1337, ratio=(.8, 0.1,0.1)) "
   ]
  },
  {
   "cell_type": "code",
   "execution_count": 14,
   "id": "soviet-imperial",
   "metadata": {},
   "outputs": [
    {
     "name": "stdout",
     "output_type": "stream",
     "text": [
      "Found 6036 files belonging to 18 classes.\n",
      "Using 4829 files for training.\n"
     ]
    }
   ],
   "source": [
    "train_ds = tf.keras.preprocessing.image_dataset_from_directory(\n",
    "  pkmonclassifieddir,\n",
    "  validation_split=0.2,\n",
    "  subset=\"training\",\n",
    "  seed=123,\n",
    "  image_size=(img_height, img_width),\n",
    "  batch_size=batch_size)"
   ]
  },
  {
   "cell_type": "code",
   "execution_count": 15,
   "id": "instructional-panama",
   "metadata": {},
   "outputs": [
    {
     "name": "stdout",
     "output_type": "stream",
     "text": [
      "Found 6036 files belonging to 18 classes.\n",
      "Using 1207 files for validation.\n"
     ]
    }
   ],
   "source": [
    "val_ds = tf.keras.preprocessing.image_dataset_from_directory(\n",
    "  pkmonclassifieddir,\n",
    "  validation_split=0.2,\n",
    "  subset=\"validation\",\n",
    "  seed=123,\n",
    "  image_size=(img_height, img_width),\n",
    "  batch_size=batch_size)"
   ]
  },
  {
   "cell_type": "code",
   "execution_count": 16,
   "id": "rational-space",
   "metadata": {},
   "outputs": [],
   "source": [
    "from tensorflow.keras import layers\n",
    "from tensorflow.keras.callbacks import EarlyStopping\n",
    "from tensorflow.keras.models import Sequential"
   ]
  },
  {
   "cell_type": "code",
   "execution_count": 17,
   "id": "through-address",
   "metadata": {},
   "outputs": [],
   "source": [
    "AUTOTUNE = tf.data.AUTOTUNE\n",
    "\n",
    "train_ds = train_ds.cache().prefetch(buffer_size=AUTOTUNE)\n",
    "val_ds = val_ds.cache().prefetch(buffer_size=AUTOTUNE)"
   ]
  },
  {
   "cell_type": "code",
   "execution_count": 21,
   "id": "successful-franchise",
   "metadata": {},
   "outputs": [],
   "source": [
    "early_stop = EarlyStopping(monitor='val_loss', mode='min', verbose=1, patience=8)"
   ]
  },
  {
   "cell_type": "code",
   "execution_count": 22,
   "id": "rental-colony",
   "metadata": {},
   "outputs": [],
   "source": [
    "num_classes = 18\n",
    "model = Sequential()\n",
    "model.add(layers.Conv2D(32, (3, 3), padding=\"same\", activation='relu',  input_shape=(100,100,3)))\n",
    "model.add(layers.BatchNormalization(axis=-1))\n",
    "model.add(layers.MaxPooling2D(pool_size=(3, 3)))\n",
    "model.add(layers.Dropout(0.33))\n",
    "\n",
    "model.add(layers.Conv2D(64, (3, 3), padding=\"same\", activation='relu'))\n",
    "model.add(layers.BatchNormalization(axis=-1))\n",
    "model.add(layers.Conv2D(64, (3, 3), padding=\"same\", activation='relu'))\n",
    "model.add(layers.BatchNormalization(axis=-1))\n",
    "model.add(layers.MaxPooling2D(pool_size=(2, 2)))\n",
    "model.add(layers.Dropout(0.33))\n",
    "\n",
    "model.add(layers.Conv2D(128, (3, 3), padding=\"same\", activation=\"relu\"))\n",
    "model.add(layers.BatchNormalization(axis=-1))\n",
    "model.add(layers.Conv2D(128, (3, 3), padding=\"same\", activation='relu'))\n",
    "model.add(layers.BatchNormalization(axis=-1))\n",
    "model.add(layers.MaxPooling2D(pool_size=(2, 2)))\n",
    "model.add(layers.Dropout(0.33))\n",
    "model.add(layers.Flatten())\n",
    "\n",
    "model.add(layers.Dense(1024, activation='relu'))\n",
    "model.add(layers.BatchNormalization())\n",
    "model.add(layers.Dropout(0.5))\n",
    "\n",
    "model.add(layers.Dense(num_classes, activation='softmax'))"
   ]
  },
  {
   "cell_type": "code",
   "execution_count": null,
   "id": "adolescent-overall",
   "metadata": {},
   "outputs": [],
   "source": [
    "model = tf.keras.models.load_model('C:\\\\Users\\\\Asrra\\\\OneDrive\\\\Documents\\\\Code\\Python\\\\Pokemon Classification\\\\PokemonClassifier2best.h5')"
   ]
  },
  {
   "cell_type": "code",
   "execution_count": 23,
   "id": "rotary-december",
   "metadata": {},
   "outputs": [],
   "source": [
    "model.compile(\n",
    "  optimizer='adam',\n",
    "  loss=tf.losses.SparseCategoricalCrossentropy(from_logits=True),\n",
    "  metrics=['accuracy'])"
   ]
  },
  {
   "cell_type": "code",
   "execution_count": null,
   "id": "frozen-maryland",
   "metadata": {
    "scrolled": true
   },
   "outputs": [
    {
     "name": "stdout",
     "output_type": "stream",
     "text": [
      "Epoch 1/100\n",
      "151/151 [==============================] - 70s 464ms/step - loss: 2.8661 - accuracy: 0.2313 - val_loss: 3.0946 - val_accuracy: 0.2386\n",
      "Epoch 2/100\n",
      "134/151 [=========================>....] - ETA: 7s - loss: 2.6925 - accuracy: 0.2521"
     ]
    }
   ],
   "source": [
    "model.fit(\n",
    "  train_ds,\n",
    "  validation_data=val_ds,\n",
    "  epochs=100,\n",
    "  callbacks=[early_stop]\n",
    ")"
   ]
  },
  {
   "cell_type": "code",
   "execution_count": 22,
   "id": "czech-judge",
   "metadata": {
    "scrolled": true
   },
   "outputs": [
    {
     "data": {
      "text/plain": [
       "<AxesSubplot:>"
      ]
     },
     "execution_count": 22,
     "metadata": {},
     "output_type": "execute_result"
    },
    {
     "data": {
      "image/png": "[encoded data removed]",
      "text/plain": [
       "<Figure size 432x288 with 1 Axes>"
      ]
     },
     "metadata": {
      "needs_background": "light"
     },
     "output_type": "display_data"
    }
   ],
   "source": [
    "pd.DataFrame(model.history.history).plot()"
   ]
  },
  {
   "cell_type": "code",
   "execution_count": 32,
   "id": "blocked-mailman",
   "metadata": {},
   "outputs": [],
   "source": [
    "predictions = np.array([])\n",
    "labels =  np.array([])\n",
    "for x, y in val_ds:\n",
    "  predictions = np.concatenate([predictions, np.argmax(model.predict(x), axis = -1)])\n",
    "  labels = np.concatenate([labels, y.numpy()])"
   ]
  },
  {
   "cell_type": "code",
   "execution_count": 33,
   "id": "serial-screening",
   "metadata": {},
   "outputs": [],
   "source": [
    "from sklearn.metrics import classification_report,confusion_matrix"
   ]
  },
  {
   "cell_type": "code",
   "execution_count": 34,
   "id": "controversial-death",
   "metadata": {},
   "outputs": [
    {
     "name": "stdout",
     "output_type": "stream",
     "text": [
      "              precision    recall  f1-score   support\n",
      "\n",
      "         0.0       0.59      0.51      0.54        95\n",
      "         1.0       0.40      0.33      0.36        43\n",
      "         2.0       0.41      0.31      0.35        48\n",
      "         3.0       0.53      0.58      0.55        71\n",
      "         4.0       0.64      0.46      0.53        35\n",
      "         5.0       0.39      0.24      0.30        45\n",
      "         6.0       0.65      0.66      0.66       116\n",
      "         7.0       1.00      0.50      0.67         2\n",
      "         8.0       0.48      0.32      0.38        41\n",
      "         9.0       0.56      0.73      0.63       116\n",
      "        10.0       0.42      0.30      0.35        57\n",
      "        11.0       0.43      0.39      0.41        31\n",
      "        12.0       0.48      0.58      0.52       193\n",
      "        13.0       0.62      0.48      0.54        50\n",
      "        14.0       0.47      0.49      0.48       100\n",
      "        15.0       0.39      0.31      0.34        81\n",
      "        16.0       0.20      0.30      0.24        23\n",
      "        17.0       0.56      0.61      0.58       222\n",
      "\n",
      "    accuracy                           0.51      1369\n",
      "   macro avg       0.51      0.45      0.47      1369\n",
      "weighted avg       0.51      0.51      0.51      1369\n",
      "\n"
     ]
    }
   ],
   "source": [
    "print(classification_report(labels,predictions))"
   ]
  }
 ],
 "metadata": {
  "kernelspec": {
   "display_name": "Python 3",
   "language": "python",
   "name": "python3"
  },
  "language_info": {
   "codemirror_mode": {
    "name": "ipython",
    "version": 3
   },
   "file_extension": ".py",
   "mimetype": "text/x-python",
   "name": "python",
   "nbconvert_exporter": "python",
   "pygments_lexer": "ipython3",
   "version": "3.8.8"
  }
 },
 "nbformat": 4,
 "nbformat_minor": 5
}
